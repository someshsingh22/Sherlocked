{
  "nbformat": 4,
  "nbformat_minor": 0,
  "metadata": {
    "colab": {
      "name": "Sherlocked.ipynb",
      "version": "0.3.2",
      "provenance": [],
      "collapsed_sections": [],
      "include_colab_link": true
    },
    "kernelspec": {
      "name": "python3",
      "display_name": "Python 3"
    },
    "accelerator": "GPU"
  },
  "cells": [
    {
      "cell_type": "markdown",
      "metadata": {
        "id": "view-in-github",
        "colab_type": "text"
      },
      "source": [
        "<a href=\"https://colab.research.google.com/github/someshsingh22/Sherlocked/blob/master/Sherlocked.ipynb\" target=\"_parent\"><img src=\"https://colab.research.google.com/assets/colab-badge.svg\" alt=\"Open In Colab\"/></a>"
      ]
    },
    {
      "cell_type": "code",
      "metadata": {
        "id": "dTVePy0RwXRE",
        "colab_type": "code",
        "outputId": "cc246b08-e0d0-4eb2-efe2-5bde6be0d4cd",
        "colab": {
          "base_uri": "https://localhost:8080/",
          "height": 121
        }
      },
      "source": [
        "! git clone https://github.com/someshsingh22/Sherlocked"
      ],
      "execution_count": 1,
      "outputs": [
        {
          "output_type": "stream",
          "text": [
            "Cloning into 'Sherlocked'...\n",
            "remote: Enumerating objects: 57, done.\u001b[K\n",
            "remote: Counting objects:   1% (1/57)\u001b[K\rremote: Counting objects:   3% (2/57)\u001b[K\rremote: Counting objects:   5% (3/57)\u001b[K\rremote: Counting objects:   7% (4/57)\u001b[K\rremote: Counting objects:   8% (5/57)\u001b[K\rremote: Counting objects:  10% (6/57)\u001b[K\rremote: Counting objects:  12% (7/57)\u001b[K\rremote: Counting objects:  14% (8/57)\u001b[K\rremote: Counting objects:  15% (9/57)\u001b[K\rremote: Counting objects:  17% (10/57)\u001b[K\rremote: Counting objects:  19% (11/57)\u001b[K\rremote: Counting objects:  21% (12/57)\u001b[K\rremote: Counting objects:  22% (13/57)\u001b[K\rremote: Counting objects:  24% (14/57)\u001b[K\rremote: Counting objects:  26% (15/57)\u001b[K\rremote: Counting objects:  28% (16/57)\u001b[K\rremote: Counting objects:  29% (17/57)\u001b[K\rremote: Counting objects:  31% (18/57)\u001b[K\rremote: Counting objects:  33% (19/57)\u001b[K\rremote: Counting objects:  35% (20/57)\u001b[K\rremote: Counting objects:  36% (21/57)\u001b[K\rremote: Counting objects:  38% (22/57)\u001b[K\rremote: Counting objects:  40% (23/57)\u001b[K\rremote: Counting objects:  42% (24/57)\u001b[K\rremote: Counting objects:  43% (25/57)\u001b[K\rremote: Counting objects:  45% (26/57)\u001b[K\rremote: Counting objects:  47% (27/57)\u001b[K\rremote: Counting objects:  49% (28/57)\u001b[K\rremote: Counting objects:  50% (29/57)\u001b[K\rremote: Counting objects:  52% (30/57)\u001b[K\rremote: Counting objects:  54% (31/57)\u001b[K\rremote: Counting objects:  56% (32/57)\u001b[K\rremote: Counting objects:  57% (33/57)\u001b[K\rremote: Counting objects:  59% (34/57)\u001b[K\rremote: Counting objects:  61% (35/57)\u001b[K\rremote: Counting objects:  63% (36/57)\u001b[K\rremote: Counting objects:  64% (37/57)\u001b[K\rremote: Counting objects:  66% (38/57)\u001b[K\rremote: Counting objects:  68% (39/57)\u001b[K\rremote: Counting objects:  70% (40/57)\u001b[K\rremote: Counting objects:  71% (41/57)\u001b[K\rremote: Counting objects:  73% (42/57)\u001b[K\rremote: Counting objects:  75% (43/57)\u001b[K\rremote: Counting objects:  77% (44/57)\u001b[K\rremote: Counting objects:  78% (45/57)\u001b[K\rremote: Counting objects:  80% (46/57)\u001b[K\rremote: Counting objects:  82% (47/57)\u001b[K\rremote: Counting objects:  84% (48/57)\u001b[K\rremote: Counting objects:  85% (49/57)\u001b[K\rremote: Counting objects:  87% (50/57)\u001b[K\rremote: Counting objects:  89% (51/57)\u001b[K\rremote: Counting objects:  91% (52/57)\u001b[K\rremote: Counting objects:  92% (53/57)\u001b[K\rremote: Counting objects:  94% (54/57)\u001b[K\rremote: Counting objects:  96% (55/57)\u001b[K\rremote: Counting objects:  98% (56/57)\u001b[K\rremote: Counting objects: 100% (57/57)\u001b[K\rremote: Counting objects: 100% (57/57), done.\u001b[K\n",
            "remote: Compressing objects: 100% (52/52), done.\u001b[K\n",
            "remote: Total 57 (delta 16), reused 38 (delta 1), pack-reused 0\u001b[K\n",
            "Unpacking objects: 100% (57/57), done.\n"
          ],
          "name": "stdout"
        }
      ]
    },
    {
      "cell_type": "code",
      "metadata": {
        "id": "T36tVKvTwYt7",
        "colab_type": "code",
        "colab": {}
      },
      "source": [
        "import numpy as np\n",
        "import torch\n",
        "import torch.nn as nn\n",
        "import torch.nn.functional as F\n",
        "import numpy as np\n",
        "from collections import Counter\n",
        "import os\n",
        "import re\n",
        "from argparse import Namespace\n",
        "import time\n",
        "from tqdm import tqdm"
      ],
      "execution_count": 0,
      "outputs": []
    },
    {
      "cell_type": "code",
      "metadata": {
        "id": "O0kRFHqfwdov",
        "colab_type": "code",
        "colab": {}
      },
      "source": [
        ""
      ],
      "execution_count": 0,
      "outputs": []
    },
    {
      "cell_type": "code",
      "metadata": {
        "id": "ISqLjmV_kDMU",
        "colab_type": "code",
        "colab": {}
      },
      "source": [
        "def predict(device, net, words, n_vocab, vocab_to_int, int_to_vocab, top_k=5):\n",
        "    net.eval()\n",
        "\n",
        "    state_h, state_c = net.zero_state(1)\n",
        "    state_h = state_h.to(device)\n",
        "    state_c = state_c.to(device)\n",
        "    for w in words:\n",
        "        ix = torch.tensor([[vocab_to_int[w]]]).to(device)\n",
        "        output, (state_h, state_c) = net(ix, (state_h, state_c))\n",
        "    \n",
        "    _, top_ix = torch.topk(output[0], k=top_k)\n",
        "    choices = top_ix.tolist()\n",
        "    choice = np.random.choice(choices[0])\n",
        "\n",
        "    words.append(int_to_vocab[choice])\n",
        "    for _ in range(100):\n",
        "        ix = torch.tensor([[choice]]).to(device)\n",
        "        output, (state_h, state_c) = net(ix, (state_h, state_c))\n",
        "\n",
        "        _, top_ix = torch.topk(output[0], k=top_k)\n",
        "        choices = top_ix.tolist()\n",
        "        choice = np.random.choice(choices[0])\n",
        "        words.append(int_to_vocab[choice])\n",
        "\n",
        "    return ' '.join(words).encode('utf-8')\n"
      ],
      "execution_count": 0,
      "outputs": []
    },
    {
      "cell_type": "code",
      "metadata": {
        "id": "Piuuz-ValHdE",
        "colab_type": "code",
        "colab": {}
      },
      "source": [
        " y=predict(device, net, \"Sherlock Holmes\".split(), n_vocab, vocab_to_int, int_to_vocab, top_k=2)"
      ],
      "execution_count": 0,
      "outputs": []
    },
    {
      "cell_type": "code",
      "metadata": {
        "id": "SeFBGSaFlaio",
        "colab_type": "code",
        "outputId": "c795663f-0435-4e74-b2fb-8502effc3b7e",
        "colab": {
          "base_uri": "https://localhost:8080/",
          "height": 55
        }
      },
      "source": [
        "y"
      ],
      "execution_count": 0,
      "outputs": [
        {
          "output_type": "execute_result",
          "data": {
            "text/plain": [
              "b'Sherlock Holmes had said to my own to do with the first thing that I had seen a more powerfully built young man , and the same necessity was growing in the room , and I was to be able for a few minutes , but he had been a very busy man . He was a very tall , dark man with the broad and ready face . He was a perfect savage , tall , strong , strong object was a familiar man , and he was a very tall and fair haired woman hobbled to the table . He was'"
            ]
          },
          "metadata": {
            "tags": []
          },
          "execution_count": 122
        }
      ]
    },
    {
      "cell_type": "code",
      "metadata": {
        "id": "gMxUXduLwiHz",
        "colab_type": "code",
        "colab": {}
      },
      "source": [
        "read_path=\"./Sherlocked/Dataset/Clean/{}.txt\"\n",
        "write_path=\"./Sherlocked/Generated/{}.txt\"\n",
        "Data_flags = Namespace(\n",
        "    data_dir=read_path.format(\"cano\"),\n",
        "    seq_size=64,\n",
        "    batch_size=256,\n",
        ")\n",
        "Brain_flags=Namespace(\n",
        "    num_layers=1,\n",
        "    is_bidirectional=False,\n",
        "    seq_size=Data_flags.seq_size,\n",
        "    batch_size=Data_flags.batch_size,\n",
        "    embedding_size=256,\n",
        "    lstm_size=256,\n",
        "    gradients_norm=5,\n",
        "    dropout=0.1\n",
        ")\n",
        "Pen_flags=Namespace(\n",
        "    write_directory=write_path.format(\"cano\"),\n",
        "    device=torch.device('cuda' if torch.cuda.is_available() else 'cpu')\n",
        ")"
      ],
      "execution_count": 0,
      "outputs": []
    },
    {
      "cell_type": "code",
      "metadata": {
        "id": "1tKl0vEBospF",
        "colab_type": "code",
        "colab": {}
      },
      "source": [
        "# Data Class\n",
        "class Data :\n",
        "  def __init__(self,Data_flags):\n",
        "    self.flags=Data_flags\n",
        "    \n",
        "    # Pre Process Data\n",
        "    self.pre_process()\n",
        "    \n",
        "  # Prepare Data For Training\n",
        "  def pre_process(self):\n",
        "    start=time.time()\n",
        "    # Read datat and split to words from files\n",
        "    text=open(Data_flags.data_dir).read().split()\n",
        "\n",
        "    # Create Frequency Dictionary\n",
        "    word_counts = Counter(text)\n",
        "    self.sorted_vocab = sorted(word_counts, key=word_counts.get, reverse=True)\n",
        "\n",
        "    # Word2Vec Mapping\n",
        "    self.int_to_vocab = {k: w for k, w in enumerate(self.sorted_vocab)}\n",
        "    self.vocab_to_int = {w: k for k, w in self.int_to_vocab.items()}\n",
        "    self.n_vocab = len(self.int_to_vocab)\n",
        "\n",
        "    # Create Input-Output Data\n",
        "    self.int_text = [self.vocab_to_int[w] for w in text]\n",
        "    num_batches = int(len(self.int_text) / (Data_flags.seq_size * Data_flags.batch_size))\n",
        "    self.in_text = self.int_text[:num_batches * Data_flags.batch_size * Data_flags.seq_size]\n",
        "    self.out_text = np.zeros_like(self.in_text)\n",
        "    self.out_text[:-1] = self.in_text[1:]\n",
        "    self.out_text[-1] = self.in_text[0]\n",
        "    self.in_text = np.reshape(self.in_text, (Data_flags.batch_size, -1))\n",
        "    self.out_text = np.reshape(self.out_text, (Data_flags.batch_size, -1))\n",
        "    print(\"Data Preprocessing complete with {} words\".format(self.n_vocab))\n",
        "\n",
        "  # Create Input-Output Batch Generator \n",
        "  def get_batches(self):\n",
        "    num_batches = np.prod(self.in_text.shape) // (self.flags.seq_size * self.flags.batch_size)\n",
        "    for i in range(0, num_batches * self.flags.seq_size, self.flags.seq_size):\n",
        "      yield self.in_text[:, i:i+self.flags.seq_size], self.out_text[:, i:i+self.flags.seq_size]"
      ],
      "execution_count": 0,
      "outputs": []
    },
    {
      "cell_type": "code",
      "metadata": {
        "id": "JXJa902jygIw",
        "colab_type": "code",
        "colab": {}
      },
      "source": [
        "# Neural Network\n",
        "class Network(nn.Module):\n",
        "  def __init__(self,flags,data):\n",
        "    super(Network, self).__init__()\n",
        "    self.flags=flags\n",
        "    self.Data=data\n",
        "\n",
        "    # Embedding Layer , LSTM Stack and Output Layer\n",
        "    self.embedding= nn.Embedding(self.Data.n_vocab, self.flags.embedding_size)\n",
        "    self.lstm=nn.LSTM(self.flags.embedding_size,self.flags.lstm_size,batch_first=True,num_layers=self.flags.num_layers,dropout=self.flags.dropout)\n",
        "    self.dense = nn.Linear(self.flags.lstm_size, self.Data.n_vocab)\n",
        "\n",
        "  # Forward Pass\n",
        "  def forward(self, x, prev_state):\n",
        "      embed = self.embedding(x)\n",
        "      output, state = self.lstm(embed, prev_state)\n",
        "      logits = self.dense(output)\n",
        "      return logits, state\n",
        "\n",
        "  # ZeroState Init\n",
        "  def zero_state(self,batch_size):\n",
        "        return (torch.zeros(self.flags.num_layers*(2 if self.flags.is_bidirectional else 1), batch_size, self.flags.lstm_size),\n",
        "                torch.zeros(self.flags.num_layers*(2 if self.flags.is_bidirectional else 1), batch_size, self.flags.lstm_size))\n",
        "\n",
        "# Solver / Optimizer\n",
        "class Optimizer :\n",
        "  def __init__(self,Network):\n",
        "    self.lr=0.02\n",
        "    self.Network=Network\n",
        "\n",
        "    # Defining Loss function and Optimizer\n",
        "    self.criterion = nn.CrossEntropyLoss()\n",
        "    self.optimizer = torch.optim.Adam(self.Network.parameters(), lr=self.lr)\n",
        "\n",
        "  def decay(self,loss):\n",
        "\n",
        "    # Update with Factor or value\n",
        "    def factor_update(factor):\n",
        "      for group in self.optimizer.param_groups:\n",
        "        group['lr']*=value\n",
        "      self.lr*=value\n",
        "    def value_update(value):\n",
        "      for group in self.optimizer.param_groups:\n",
        "        group['lr']=value\n",
        "      self.lr=value\n",
        "\n",
        "    if self.lr > 0.001:\n",
        "      # Initial Fast Changes\n",
        "      if loss > 10 :\n",
        "        self.value_update(0.02)\n",
        "      elif loss > 7 :\n",
        "        self.value_update(0.01)\n",
        "      #slower changes\n",
        "      elif loss > 4 :\n",
        "        self.value_update(0.005)\n",
        "      #exponential drop\n",
        "      else :\n",
        "        self.factor_update(0.97)\n"
      ],
      "execution_count": 0,
      "outputs": []
    },
    {
      "cell_type": "code",
      "metadata": {
        "id": "9wZbyrqlys6i",
        "colab_type": "code",
        "colab": {}
      },
      "source": [
        "# Neural Network aka Brain\n",
        "class Brain :\n",
        "  def __init__(self,flags,Optimizer):\n",
        "    self.device=torch.device('cuda' if torch.cuda.is_available() else 'cpu')\n",
        "    self.flags=flags\n",
        "    self.Optimizer=Optimizer\n",
        "    self.Network=self.Optimizer.Network\n",
        "    self.Data=self.Network.Data\n",
        "    self.Network.to(self.device)\n",
        "    self.loss_value=0\n",
        "    \n",
        "  #Train Function\n",
        "  def Train(self,epochs):\n",
        "    self.Network.train()\n",
        "    for epoch in range(epochs):\n",
        "      start=time.time()\n",
        "      batches=self.Data.get_batches()\n",
        "      state_h, state_c = self.Network.zero_state(self.flags.lstm_size)\n",
        "      \n",
        "      \n",
        "      # Transfer data to GPU\n",
        "      state_h = state_h.to(self.device)\n",
        "      state_c = state_c.to(self.device)\n",
        "      \n",
        "      for x, y in tqdm(batches):\n",
        "        \n",
        "        # Reset all gradients\n",
        "        self.Optimizer.optimizer.zero_grad()\n",
        "\n",
        "        # Transfer data to GPU\n",
        "        x = torch.tensor(x).to(self.device)\n",
        "        y = torch.tensor(y).to(self.device)\n",
        "\n",
        "        logits, (state_h, state_c) = self.Network(x, (state_h, state_c))\n",
        "        self.loss = self.Optimizer.criterion(logits.transpose(1, 2), y)\n",
        "\n",
        "        state_h = state_h.detach()\n",
        "        state_c = state_c.detach()\n",
        "\n",
        "        self.loss_value = self.loss.item()\n",
        "        \n",
        "        # Update the network's parameters\n",
        "        self.Optimizer.optimizer.step()\n",
        "        self.loss.backward()\n",
        "        _ = torch.nn.utils.clip_grad_norm_(self.Network.parameters(), self.flags.gradients_norm)\n",
        "        #self.Optimizer.decay(self.loss)\n",
        "        \n",
        "        self.Optimizer.optimizer.step()\n",
        "      print('Epoch: {}/{}'.format(epoch, epochs),'Loss: {}'.format(self.loss_value),'Time Taken : {}'.format(time.time()-start))"
      ],
      "execution_count": 0,
      "outputs": []
    },
    {
      "cell_type": "code",
      "metadata": {
        "id": "ygDtVW1yqTdq",
        "colab_type": "code",
        "colab": {
          "base_uri": "https://localhost:8080/",
          "height": 104
        },
        "outputId": "f0a318e5-10ee-494f-80d9-dff528e3962f"
      },
      "source": [
        "import warnings\n",
        "warnings.simplefilter(\"ignore\")\n",
        "d=Data(Data_flags)\n",
        "n=Network(Brain_flags,d)\n",
        "o=Optimizer(n)\n",
        "br=Brain(Brain_flags,o)\n",
        "br.Train(2)"
      ],
      "execution_count": 11,
      "outputs": [
        {
          "output_type": "stream",
          "text": [
            "\r0it [00:00, ?it/s]"
          ],
          "name": "stderr"
        },
        {
          "output_type": "stream",
          "text": [
            "Data Preprocessing complete with 21252 words\n"
          ],
          "name": "stdout"
        },
        {
          "output_type": "stream",
          "text": [
            "46it [00:19,  2.35it/s]\n",
            "0it [00:00, ?it/s]"
          ],
          "name": "stderr"
        },
        {
          "output_type": "stream",
          "text": [
            "Epoch: 0/2 Loss: 5.17241907119751 Time Taken : 19.348498582839966\n"
          ],
          "name": "stdout"
        },
        {
          "output_type": "stream",
          "text": [
            "46it [00:19,  2.29it/s]"
          ],
          "name": "stderr"
        },
        {
          "output_type": "stream",
          "text": [
            "Epoch: 1/2 Loss: 4.682430744171143 Time Taken : 19.877373456954956\n"
          ],
          "name": "stdout"
        },
        {
          "output_type": "stream",
          "text": [
            "\n"
          ],
          "name": "stderr"
        }
      ]
    },
    {
      "cell_type": "code",
      "metadata": {
        "id": "Uzdwop6Dxrjf",
        "colab_type": "code",
        "colab": {}
      },
      "source": [
        "class Pen :\n",
        "  def __init__(self,flags,brain):\n",
        "    self.Brain=brain\n",
        "    self.Network=self.Brain.Network\n",
        "    self.Data=self.Brain.Data\n",
        "    self.Optimizer=self.Brain.Optimizer\n",
        "    self.flags=flags\n",
        "    \n",
        "    # Temperatur Randomness\n",
        "    def temp_choice(temp):\n",
        "      probs=np.asarray([80-60*temp,60-20*temp,50,40+20*temp,60+20*temp])\n",
        "      return probs/250\n",
        "    \n",
        "    # Writer\n",
        "    def writer(self,words=\"I am\",temperature=0.5,length=70):\n",
        "      self.Network.eval()\n",
        "      state_h, state_c = self.Network.zero_state(1)\n",
        "      state_h = state_h.to(self.flags.device)\n",
        "      state_c = state_c.to(self.flags.device)\n",
        "      \n",
        "      for w in words.split():\n",
        "        ix = torch.tensor([[self.Data.vocab_to_int[w]]]).to(self.flags.device)\n",
        "        output, (state_h, state_c) = self.Network(ix, (state_h, state_c))\n",
        "        top_k=np.random.choice(np.arange(1,6),1,p=temp_choice(temperature))\n",
        "     \n",
        "      _, top_ix = torch.topk(output[0], k=top_k)\n",
        "      choices = top_ix.tolist()\n",
        "      choice = np.random.choice(choices[0])\n",
        "      words.append(self.Data.int_to_vocab[choice])\n",
        "      \n",
        "      for _ in range(length):\n",
        "          ix = torch.tensor([[choice]]).to(self.flags.device)\n",
        "          output, (state_h, state_c) = self.Network(ix, (state_h, state_c))\n",
        "          top_k=np.random.choice(np.arange(1,6),1,p=temp_choice(temperature))\n",
        "          \n",
        "          _, top_ix = torch.topk(output[0], k=top_k)\n",
        "          choices = top_ix.tolist()\n",
        "          choice = np.random.choice(choices[0])\n",
        "          words.append(self.Data.int_to_vocab[choice])\n",
        "\n",
        "      print(' '.join(words))\n",
        "      return ' '.join(words)"
      ],
      "execution_count": 0,
      "outputs": []
    },
    {
      "cell_type": "code",
      "metadata": {
        "id": "eq19D64NV03p",
        "colab_type": "code",
        "colab": {}
      },
      "source": [
        "pen=Pen(Pen_flags,br)"
      ],
      "execution_count": 0,
      "outputs": []
    },
    {
      "cell_type": "code",
      "metadata": {
        "id": "0mv5MIo7zjTu",
        "colab_type": "code",
        "colab": {}
      },
      "source": [
        "class Arthur :\n",
        "  def __init__(self,epochs=50):\n",
        "    self.Data=Data(Data_flags)\n",
        "    self.Network=Network(Brain_flags,Data)\n",
        "    self.Optimizer=Optimizer(self.Network)\n",
        "    self.Brain=Brain(Brain_flags,Optimizer)\n",
        "    self.epochs=epochs\n",
        "    self.Pen=Pen(Pen_flags,Brain)\n",
        "    self.models=[]\n",
        "    self.output=[]\n",
        "    \n",
        "    # Train\n",
        "    def Train(self):\n",
        "      self.Brain.Train(self.epochs)\n",
        "    \n",
        "    # Write\n",
        "    def Write(self):\n",
        "      output.append(self.Pen.Write())\n",
        "      models.append(self.Brain.flags)\n",
        "    \n",
        "    "
      ],
      "execution_count": 0,
      "outputs": []
    },
    {
      "cell_type": "code",
      "metadata": {
        "id": "xrkX8b9p1-IO",
        "colab_type": "code",
        "colab": {
          "base_uri": "https://localhost:8080/",
          "height": 166
        },
        "outputId": "f4be66ec-73ac-4e78-b6fd-d6c16064f0ef"
      },
      "source": [
        "pen.writer()"
      ],
      "execution_count": 22,
      "outputs": [
        {
          "output_type": "error",
          "ename": "AttributeError",
          "evalue": "ignored",
          "traceback": [
            "\u001b[0;31m---------------------------------------------------------------------------\u001b[0m",
            "\u001b[0;31mAttributeError\u001b[0m                            Traceback (most recent call last)",
            "\u001b[0;32m<ipython-input-22-78ef746255cc>\u001b[0m in \u001b[0;36m<module>\u001b[0;34m()\u001b[0m\n\u001b[0;32m----> 1\u001b[0;31m \u001b[0mpen\u001b[0m\u001b[0;34m.\u001b[0m\u001b[0mwriter\u001b[0m\u001b[0;34m(\u001b[0m\u001b[0;34m)\u001b[0m\u001b[0;34m\u001b[0m\u001b[0;34m\u001b[0m\u001b[0m\n\u001b[0m",
            "\u001b[0;31mAttributeError\u001b[0m: 'Pen' object has no attribute 'writer'"
          ]
        }
      ]
    },
    {
      "cell_type": "code",
      "metadata": {
        "id": "O-K022YTDnsX",
        "colab_type": "code",
        "colab": {
          "base_uri": "https://localhost:8080/",
          "height": 35
        },
        "outputId": "87d7ba62-91e4-415d-a6f2-0a037ce257a6"
      },
      "source": [
        "np.arange(1,6)"
      ],
      "execution_count": 17,
      "outputs": [
        {
          "output_type": "execute_result",
          "data": {
            "text/plain": [
              "array([1, 2, 3, 4, 5])"
            ]
          },
          "metadata": {
            "tags": []
          },
          "execution_count": 17
        }
      ]
    },
    {
      "cell_type": "code",
      "metadata": {
        "id": "uKX4DJJdLUHM",
        "colab_type": "code",
        "colab": {}
      },
      "source": [
        ""
      ],
      "execution_count": 0,
      "outputs": []
    }
  ]
}